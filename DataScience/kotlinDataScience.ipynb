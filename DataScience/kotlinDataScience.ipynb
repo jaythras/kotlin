{
 "cells": [
  {
   "cell_type": "markdown",
   "metadata": {},
   "source": [
    "## Imports\n",
    "* lets-plot: data visualization\n",
    "* krangl: data w{rangl}ing"
   ]
  },
  {
   "cell_type": "code",
   "execution_count": 2,
   "metadata": {},
   "outputs": [
    {
     "data": {
      "text/html": [
       "   <div id=\"M8oJql\"></div>\n",
       "   <script type=\"text/javascript\" data-lets-plot-script=\"library\">\n",
       "       if(!window.letsPlotCallQueue) {\n",
       "           window.letsPlotCallQueue = [];\n",
       "       }; \n",
       "       window.letsPlotCall = function(f) {\n",
       "           window.letsPlotCallQueue.push(f);\n",
       "       };\n",
       "       (function() {\n",
       "           var script = document.createElement(\"script\");\n",
       "           script.type = \"text/javascript\";\n",
       "           script.src = \"https://dl.bintray.com/jetbrains/lets-plot/lets-plot-1.5.2.min.js\";\n",
       "           script.onload = function() {\n",
       "               window.letsPlotCall = function(f) {f();};\n",
       "               window.letsPlotCallQueue.forEach(function(f) {f();});\n",
       "               window.letsPlotCallQueue = [];\n",
       "               \n",
       "               \n",
       "           };\n",
       "           script.onerror = function(event) {\n",
       "               window.letsPlotCall = function(f) {};\n",
       "               window.letsPlotCallQueue = [];\n",
       "               var div = document.createElement(\"div\");\n",
       "               div.style.color = 'darkred';\n",
       "               div.textContent = 'Error loading Lets-Plot JS';\n",
       "               document.getElementById(\"M8oJql\").appendChild(div);\n",
       "           };\n",
       "           var e = document.getElementById(\"M8oJql\");\n",
       "           e.appendChild(script);\n",
       "       })();\n",
       "   </script>"
      ]
     },
     "metadata": {},
     "output_type": "display_data"
    }
   ],
   "source": [
    "%use lets-plot, krangl"
   ]
  },
  {
   "cell_type": "markdown",
   "metadata": {},
   "source": [
    "---\n",
    "## Load up the COVID-19 data\n",
    "\n",
    "This data was made available by the **Indiana State Department of Health**. This data is accuarate as of 16 November 2020. The data set that I used can be downloaded [here](https://hub.mph.in.gov/dataset/covid-19-county-statistics)."
   ]
  },
  {
   "cell_type": "code",
   "execution_count": 3,
   "metadata": {},
   "outputs": [],
   "source": [
    "val countyDf = DataFrame.readCSV(\"covid_report_county.csv\")"
   ]
  },
  {
   "cell_type": "markdown",
   "metadata": {},
   "source": [
    "Here is a quick look at the data."
   ]
  },
  {
   "cell_type": "code",
   "execution_count": 4,
   "metadata": {},
   "outputs": [
    {
     "data": {
      "text/html": [
       "<html><body><table><tr><th style=\"text-align:left\">LOCATION_ID</th><th style=\"text-align:left\">COVID_COUNT</th><th style=\"text-align:left\">COVID_DEATHS</th><th style=\"text-align:left\">COVID_TEST</th><th style=\"text-align:left\">COUNTY_NAME</th></tr><tr><td style=\"text-align:left\" title=\"18001\">18001</td><td style=\"text-align:left\" title=\"1351\">1351</td><td style=\"text-align:left\" title=\"15\">15</td><td style=\"text-align:left\" title=\"7455\">7455</td><td style=\"text-align:left\" title=\"Adams\">Adams</td></tr><tr><td style=\"text-align:left\" title=\"18003\">18003</td><td style=\"text-align:left\" title=\"14545\">14545</td><td style=\"text-align:left\" title=\"268\">268</td><td style=\"text-align:left\" title=\"100255\">100255</td><td style=\"text-align:left\" title=\"Allen\">Allen</td></tr><tr><td style=\"text-align:left\" title=\"18005\">18005</td><td style=\"text-align:left\" title=\"2445\">2445</td><td style=\"text-align:left\" title=\"61\">61</td><td style=\"text-align:left\" title=\"23836\">23836</td><td style=\"text-align:left\" title=\"Bartholomew\">Bartholomew</td></tr><tr><td style=\"text-align:left\" title=\"18007\">18007</td><td style=\"text-align:left\" title=\"249\">249</td><td style=\"text-align:left\" title=\"1\">1</td><td style=\"text-align:left\" title=\"2601\">2601</td><td style=\"text-align:left\" title=\"Benton\">Benton</td></tr><tr><td style=\"text-align:left\" title=\"18009\">18009</td><td style=\"text-align:left\" title=\"402\">402</td><td style=\"text-align:left\" title=\"10\">10</td><td style=\"text-align:left\" title=\"3330\">3330</td><td style=\"text-align:left\" title=\"Blackford\">Blackford</td></tr></table></body></html>"
      ]
     },
     "execution_count": 4,
     "metadata": {
      "new_classpath": []
     },
     "output_type": "execute_result"
    }
   ],
   "source": [
    "countyDf.head()"
   ]
  },
  {
   "cell_type": "code",
   "execution_count": 8,
   "metadata": {},
   "outputs": [
    {
     "name": "stdout",
     "output_type": "stream",
     "text": [
      "Total Number of COVID Tests completed in Indiana: 1952202\n"
     ]
    }
   ],
   "source": [
    "println(\"Total Number of COVID Tests completed in Indiana: ${countyDf.cols[3].sum(removeNA=true)}\")"
   ]
  },
  {
   "cell_type": "markdown",
   "metadata": {},
   "source": [
    "---\n",
    "## Total COVID-19 Cases per County in Indiana"
   ]
  },
  {
   "cell_type": "code",
   "execution_count": 9,
   "metadata": {},
   "outputs": [],
   "source": [
    "val p = lets_plot(countyDf.toMap())"
   ]
  },
  {
   "cell_type": "code",
   "execution_count": 12,
   "metadata": {},
   "outputs": [],
   "source": [
    "val casesLayer = geom_bar(stat=Stat.identity, fill=0xFF6666, sampling=sampling_none) {\n",
    "    x = \"COUNTY_NAME\"\n",
    "    y = \"COVID_TEST\"\n",
    "}"
   ]
  },
  {
   "cell_type": "code",
   "execution_count": 13,
   "metadata": {
    "scrolled": false
   },
   "outputs": [
    {
     "data": {
      "text/html": [
       "   <div id=\"vhz7pj\"></div>\n",
       "   <script type=\"text/javascript\" data-lets-plot-script=\"plot\">\n",
       "       (function() {\n",
       "           var plotSpec={\n",
       "'ggtitle':{\n",
       "'text':\"Total Covid-19 Cases per County in Indiana\"\n",
       "},\n",
       "'mapping':{\n",
       "},\n",
       "'data':{\n",
       "'COVID_TEST':[7455.0,100255.0,23836.0,2601.0,3330.0,19287.0,2719.0,4672.0,12675.0,33320.0,6501.0,11899.0,2514.0,7337.0,12817.0,6948.0,9546.0,31275.0,11383.0,72393.0,7126.0,21605.0,4468.0,3526.0,5299.0,8268.0,17515.0,7855.0,105392.0,22888.0,10344.0,41482.0,13423.0,23444.0,10136.0,10985.0,8995.0,4480.0,8459.0,5593.0,43803.0,8292.0,22415.0,4973.0,145714.0,33191.0,10289.0,31671.0,286133.0,16119.0,2167.0,10280.0,57426.0,9659.0,16162.0,2683.0,13409.0,1572.0,4594.0,6067.0,3875.0,5356.0,2761.0,46540.0,6590.0,3097.0,9221.0,6407.0,7636.0,4406.0,108778.0,7052.0,10827.0,4468.0,5523.0,7563.0,5356.0,2223.0,72087.0,3506.0,2012.0,62608.0,4099.0,32302.0,8537.0,1392.0,19577.0,5306.0,20941.0,6580.0,7384.0,7527.0],\n",
       "'COUNTY_NAME':[\"Adams\",\"Allen\",\"Bartholomew\",\"Benton\",\"Blackford\",\"Boone\",\"Brown\",\"Carroll\",\"Cass\",\"Clark\",\"Clay\",\"Clinton\",\"Crawford\",\"Daviess\",\"Dearborn\",\"Decatur\",\"De Kalb\",\"Delaware\",\"Dubois\",\"Elkhart\",\"Fayette\",\"Floyd\",\"Fountain\",\"Franklin\",\"Fulton\",\"Gibson\",\"Grant\",\"Greene\",\"Hamilton\",\"Hancock\",\"Harrison\",\"Hendricks\",\"Henry\",\"Howard\",\"Huntington\",\"Jackson\",\"Jasper\",\"Jay\",\"Jefferson\",\"Jennings\",\"Johnson\",\"Knox\",\"Kosciusko\",\"Lagrange\",\"Lake\",\"La Porte\",\"Lawrence\",\"Madison\",\"Marion\",\"Marshall\",\"Martin\",\"Miami\",\"Monroe\",\"Montgomery\",\"Morgan\",\"Newton\",\"Noble\",\"Ohio\",\"Orange\",\"Owen\",\"Parke\",\"Perry\",\"Pike\",\"Porter\",\"Posey\",\"Pulaski\",\"Putnam\",\"Randolph\",\"Ripley\",\"Rush\",\"St. Joseph\",\"Scott\",\"Shelby\",\"Spencer\",\"Starke\",\"Steuben\",\"Sullivan\",\"Switzerland\",\"Tippecanoe\",\"Tipton\",\"Union\",\"Vanderburgh\",\"Vermillion\",\"Vigo\",\"Wabash\",\"Warren\",\"Warrick\",\"Washington\",\"Wayne\",\"Wells\",\"White\",\"Whitley\"]\n",
       "},\n",
       "'ggsize':{\n",
       "'width':1000,\n",
       "'height':300\n",
       "},\n",
       "'kind':\"plot\",\n",
       "'scales':[],\n",
       "'layers':[{\n",
       "'stat':\"identity\",\n",
       "'mapping':{\n",
       "'x':\"COUNTY_NAME\",\n",
       "'y':\"COVID_TEST\"\n",
       "},\n",
       "'data':{\n",
       "},\n",
       "'sampling':\"none\",\n",
       "'position':\"stack\",\n",
       "'geom':\"bar\",\n",
       "'fill':16737894\n",
       "}]\n",
       "};\n",
       "           var plotContainer = document.getElementById(\"vhz7pj\");\n",
       "           window.letsPlotCall(function() {{\n",
       "               LetsPlot.buildPlotFromProcessedSpecs(plotSpec, -1, -1, plotContainer);\n",
       "           }});\n",
       "       })();    \n",
       "   </script>"
      ]
     },
     "execution_count": 13,
     "metadata": {
      "new_classpath": []
     },
     "output_type": "execute_result"
    }
   ],
   "source": [
    "p + casesLayer + ggtitle(\"Total COVID-19 Cases per County in Indiana\") + ggsize(1000, 300)"
   ]
  },
  {
   "cell_type": "markdown",
   "metadata": {},
   "source": [
    "---\n",
    "## Total COVID-19 Deaths per County in Indiana"
   ]
  },
  {
   "cell_type": "code",
   "execution_count": 11,
   "metadata": {},
   "outputs": [],
   "source": [
    "val deathLayer = geom_bar(stat=Stat.identity, sampling=sampling_none) {\n",
    "    x = \"COUNTY_NAME\"\n",
    "    y = \"COVID_DEATHS\"\n",
    "}"
   ]
  },
  {
   "cell_type": "code",
   "execution_count": 423,
   "metadata": {
    "scrolled": false
   },
   "outputs": [
    {
     "data": {
      "text/html": [
       "   <div id=\"Cv6jNu\"></div>\n",
       "   <script type=\"text/javascript\" data-lets-plot-script=\"plot\">\n",
       "       (function() {\n",
       "           var plotSpec={\n",
       "'ggtitle':{\n",
       "'text':\"Total Covid-19 Deaths per County in Indiana\"\n",
       "},\n",
       "'mapping':{\n",
       "},\n",
       "'data':{\n",
       "'COUNTY_NAME':[\"Adams\",\"Allen\",\"Bartholomew\",\"Benton\",\"Blackford\",\"Boone\",\"Brown\",\"Carroll\",\"Cass\",\"Clark\",\"Clay\",\"Clinton\",\"Crawford\",\"Daviess\",\"Dearborn\",\"Decatur\",\"De Kalb\",\"Delaware\",\"Dubois\",\"Elkhart\",\"Fayette\",\"Floyd\",\"Fountain\",\"Franklin\",\"Fulton\",\"Gibson\",\"Grant\",\"Greene\",\"Hamilton\",\"Hancock\",\"Harrison\",\"Hendricks\",\"Henry\",\"Howard\",\"Huntington\",\"Jackson\",\"Jasper\",\"Jay\",\"Jefferson\",\"Jennings\",\"Johnson\",\"Knox\",\"Kosciusko\",\"Lagrange\",\"Lake\",\"La Porte\",\"Lawrence\",\"Madison\",\"Marion\",\"Marshall\",\"Martin\",\"Miami\",\"Monroe\",\"Montgomery\",\"Morgan\",\"Newton\",\"Noble\",\"Ohio\",\"Orange\",\"Owen\",\"Parke\",\"Perry\",\"Pike\",\"Porter\",\"Posey\",\"Pulaski\",\"Putnam\",\"Randolph\",\"Ripley\",\"Rush\",\"St. Joseph\",\"Scott\",\"Shelby\",\"Spencer\",\"Starke\",\"Steuben\",\"Sullivan\",\"Switzerland\",\"Tippecanoe\",\"Tipton\",\"Union\",\"Vanderburgh\",\"Vermillion\",\"Vigo\",\"Wabash\",\"Warren\",\"Warrick\",\"Washington\",\"Wayne\",\"Wells\",\"White\",\"Whitley\"],\n",
       "'COVID_DEATHS':[15.0,268.0,61.0,1.0,10.0,53.0,3.0,13.0,27.0,74.0,21.0,19.0,1.0,42.0,28.0,41.0,17.0,97.0,29.0,187.0,27.0,76.0,8.0,25.0,14.0,18.0,46.0,50.0,153.0,48.0,24.0,150.0,34.0,72.0,7.0,29.0,7.0,9.0,12.0,13.0,160.0,13.0,38.0,23.0,413.0,82.0,43.0,113.0,823.0,34.0,2.0,10.0,42.0,24.0,42.0,12.0,42.0,7.0,28.0,2.0,6.0,20.0,18.0,67.0,13.0,10.0,24.0,13.0,12.0,6.0,197.0,17.0,49.0,7.0,16.0,12.0,15.0,1.0,23.0,25.0,1.0,100.0,2.0,66.0,17.0,1.0,69.0,5.0,45.0,20.0,19.0,8.0]\n",
       "},\n",
       "'ggsize':{\n",
       "'width':1000,\n",
       "'height':300\n",
       "},\n",
       "'kind':\"plot\",\n",
       "'scales':[],\n",
       "'layers':[{\n",
       "'stat':\"identity\",\n",
       "'mapping':{\n",
       "'x':\"COUNTY_NAME\",\n",
       "'y':\"COVID_DEATHS\"\n",
       "},\n",
       "'data':{\n",
       "},\n",
       "'sampling':\"none\",\n",
       "'position':\"stack\",\n",
       "'geom':\"bar\"\n",
       "}]\n",
       "};\n",
       "           var plotContainer = document.getElementById(\"Cv6jNu\");\n",
       "           window.letsPlotCall(function() {{\n",
       "               LetsPlot.buildPlotFromProcessedSpecs(plotSpec, -1, -1, plotContainer);\n",
       "           }});\n",
       "       })();    \n",
       "   </script>"
      ]
     },
     "execution_count": 423,
     "metadata": {
      "new_classpath": []
     },
     "output_type": "execute_result"
    }
   ],
   "source": [
    "p + deathLayer + ggtitle(\"Total COVID-19 Deaths per County in Indiana\") + ggsize(1000, 300)"
   ]
  },
  {
   "cell_type": "markdown",
   "metadata": {},
   "source": [
    "---\n",
    "Next, I analyze a much smaller dataset that includes gender and age range data as well as location. To properly load this dataset, I need to tell the dataframe what types to expect. If not, it assumes that one of these columns is supposed to hold binary data, and will fail to load the dataset. "
   ]
  },
  {
   "cell_type": "code",
   "execution_count": 14,
   "metadata": {},
   "outputs": [],
   "source": [
    "val df = DataFrame.readCSV(\"covid_report.csv\", colTypes =\n",
    "        mapOf(\"LOCATION_ID\" to ColType.Int,\n",
    "              \"GENDER\" to ColType.String,\n",
    "              \"AGEGRP\" to ColType.String,\n",
    "              \"DATE\" to ColType.String,\n",
    "              \"COVID_COUNT\" to ColType.Int,\n",
    "              \"COUNTY_NAME\" to ColType.String\n",
    "             ))"
   ]
  },
  {
   "cell_type": "markdown",
   "metadata": {},
   "source": [
    "Here is the format of this dataset."
   ]
  },
  {
   "cell_type": "code",
   "execution_count": 15,
   "metadata": {},
   "outputs": [
    {
     "data": {
      "text/html": [
       "<html><body><table><tr><th style=\"text-align:left\">LOCATION_ID</th><th style=\"text-align:left\">GENDER</th><th style=\"text-align:left\">AGEGRP</th><th style=\"text-align:left\">DATE</th><th style=\"text-align:left\">COVID_COUNT</th><th style=\"text-align:left\">COUNTY_NAME</th></tr><tr><td style=\"text-align:left\" title=\"18001\">18001</td><td style=\"text-align:left\" title=\"F\">F</td><td style=\"text-align:left\" title=\"0-19\">0-19</td><td style=\"text-align:left\" title=\"YYYY-00-DD 00:00:SS\">YYYY-00-DD 00:00:SS</td><td style=\"text-align:left\" title=\"1\">1</td><td style=\"text-align:left\" title=\"Adams\">Adams</td></tr><tr><td style=\"text-align:left\" title=\"18001\">18001</td><td style=\"text-align:left\" title=\"F\">F</td><td style=\"text-align:left\" title=\"0-19\">0-19</td><td style=\"text-align:left\" title=\"YYYY-00-DD 00:00:SS\">YYYY-00-DD 00:00:SS</td><td style=\"text-align:left\" title=\"1\">1</td><td style=\"text-align:left\" title=\"Adams\">Adams</td></tr><tr><td style=\"text-align:left\" title=\"18001\">18001</td><td style=\"text-align:left\" title=\"F\">F</td><td style=\"text-align:left\" title=\"0-19\">0-19</td><td style=\"text-align:left\" title=\"YYYY-00-DD 00:00:SS\">YYYY-00-DD 00:00:SS</td><td style=\"text-align:left\" title=\"1\">1</td><td style=\"text-align:left\" title=\"Adams\">Adams</td></tr><tr><td style=\"text-align:left\" title=\"18001\">18001</td><td style=\"text-align:left\" title=\"F\">F</td><td style=\"text-align:left\" title=\"0-19\">0-19</td><td style=\"text-align:left\" title=\"YYYY-00-DD 00:00:SS\">YYYY-00-DD 00:00:SS</td><td style=\"text-align:left\" title=\"1\">1</td><td style=\"text-align:left\" title=\"Adams\">Adams</td></tr><tr><td style=\"text-align:left\" title=\"18001\">18001</td><td style=\"text-align:left\" title=\"F\">F</td><td style=\"text-align:left\" title=\"0-19\">0-19</td><td style=\"text-align:left\" title=\"YYYY-00-DD 00:00:SS\">YYYY-00-DD 00:00:SS</td><td style=\"text-align:left\" title=\"1\">1</td><td style=\"text-align:left\" title=\"Adams\">Adams</td></tr></table></body></html>"
      ]
     },
     "execution_count": 15,
     "metadata": {
      "new_classpath": []
     },
     "output_type": "execute_result"
    }
   ],
   "source": [
    "df.head()"
   ]
  },
  {
   "cell_type": "markdown",
   "metadata": {},
   "source": [
    "Below, I seperate and sum up the male and female cases. Then I create a bar chart to compare the instances of COVID-19 by gender."
   ]
  },
  {
   "cell_type": "code",
   "execution_count": 30,
   "metadata": {},
   "outputs": [
    {
     "name": "stdout",
     "output_type": "stream",
     "text": [
      "Female cases: 24641\n"
     ]
    }
   ],
   "source": [
    "val femaleDf = df.filter{it[\"GENDER\"] eq \"F\"}\n",
    "println(\"Female cases: ${femaleDf.cols[4].sum()}\")"
   ]
  },
  {
   "cell_type": "code",
   "execution_count": 31,
   "metadata": {},
   "outputs": [
    {
     "name": "stdout",
     "output_type": "stream",
     "text": [
      "Male cases: 23314\n"
     ]
    }
   ],
   "source": [
    "val maleDf = df.filter{it[\"GENDER\"] eq \"M\"}\n",
    "println(\"Male cases: ${maleDf.cols[4].sum()}\")"
   ]
  },
  {
   "cell_type": "code",
   "execution_count": 32,
   "metadata": {},
   "outputs": [],
   "source": [
    "val p = lets_plot(\n",
    "    mapOf(\n",
    "        \"Gender\" to listOf(\"M\", \"F\"), \n",
    "        \"Cases\" to listOf(maleDf.cols[4].sum(), femaleDf.cols[4].sum())\n",
    "    ))"
   ]
  },
  {
   "cell_type": "code",
   "execution_count": 33,
   "metadata": {},
   "outputs": [],
   "source": [
    "val genderLayer = geom_bar(stat=Stat.identity) {\n",
    "    x = \"Gender\"\n",
    "    y = \"Cases\"\n",
    "    fill = \"Gender\"\n",
    "}"
   ]
  },
  {
   "cell_type": "code",
   "execution_count": 34,
   "metadata": {},
   "outputs": [
    {
     "data": {
      "text/html": [
       "   <div id=\"2wosPY\"></div>\n",
       "   <script type=\"text/javascript\" data-lets-plot-script=\"plot\">\n",
       "       (function() {\n",
       "           var plotSpec={\n",
       "'ggtitle':{\n",
       "'text':\"COVID-19 cases evaluated by Gender\"\n",
       "},\n",
       "'mapping':{\n",
       "},\n",
       "'data':{\n",
       "'Gender':[\"M\",\"F\"],\n",
       "'Cases':[23314.0,24641.0]\n",
       "},\n",
       "'kind':\"plot\",\n",
       "'scales':[],\n",
       "'layers':[{\n",
       "'stat':\"identity\",\n",
       "'mapping':{\n",
       "'x':\"Gender\",\n",
       "'y':\"Cases\",\n",
       "'fill':\"Gender\"\n",
       "},\n",
       "'data':{\n",
       "},\n",
       "'position':\"stack\",\n",
       "'geom':\"bar\"\n",
       "}]\n",
       "};\n",
       "           var plotContainer = document.getElementById(\"2wosPY\");\n",
       "           window.letsPlotCall(function() {{\n",
       "               LetsPlot.buildPlotFromProcessedSpecs(plotSpec, -1, -1, plotContainer);\n",
       "           }});\n",
       "       })();    \n",
       "   </script>"
      ]
     },
     "execution_count": 34,
     "metadata": {
      "new_classpath": []
     },
     "output_type": "execute_result"
    }
   ],
   "source": [
    "p + genderLayer + ggtitle(\"COVID-19 cases evaluated by Gender\")"
   ]
  },
  {
   "cell_type": "markdown",
   "metadata": {},
   "source": [
    "---\n",
    "## COVID-19 cases evaluated by Gender and Age Group"
   ]
  },
  {
   "cell_type": "code",
   "execution_count": 26,
   "metadata": {},
   "outputs": [],
   "source": [
    "val p = lets_plot(df.toMap())"
   ]
  },
  {
   "cell_type": "code",
   "execution_count": 27,
   "metadata": {},
   "outputs": [],
   "source": [
    "val layer = geom_bar{\n",
    "    x = \"AGEGRP\"\n",
    "    fill = \"GENDER\"\n",
    "}"
   ]
  },
  {
   "cell_type": "code",
   "execution_count": 28,
   "metadata": {},
   "outputs": [
    {
     "data": {
      "text/html": [
       "   <div id=\"ymhA19\"></div>\n",
       "   <script type=\"text/javascript\" data-lets-plot-script=\"plot\">\n",
       "       (function() {\n",
       "           var plotSpec={\n",
       "'ggtitle':{\n",
       "'text':\"COVID-19 cases evaluated by Gender and Age Group\"\n",
       "},\n",
       "'mapping':{\n",
       "},\n",
       "'data':{\n",
       "},\n",
       "'kind':\"plot\",\n",
       "'scales':[],\n",
       "'layers':[{\n",
       "'stat':\"count\",\n",
       "'mapping':{\n",
       "'x':\"AGEGRP\",\n",
       "'fill':\"GENDER\"\n",
       "},\n",
       "'data':{\n",
       "'AGEGRP':[\"0-19\",\"20-29\",\"30-39\",\"40-49\",\"50-59\",\"60-69\",\"70-79\",\"80\",\"Unknown\",\"0-19\",\"20-29\",\"30-39\",\"40-49\",\"50-59\",\"60-69\",\"70-79\",\"80\",\"Unknown\",\"0-19\",\"20-29\",\"80\",\"30-39\",\"40-49\",\"50-59\",\"60-69\",\"70-79\",\"Unknown\"],\n",
       "'..count..':[2718.0,3458.0,3240.0,3442.0,3526.0,3392.0,2776.0,2063.0,26.0,2549.0,3153.0,2996.0,3259.0,3335.0,3270.0,2747.0,1977.0,28.0,204.0,328.0,81.0,239.0,217.0,234.0,163.0,103.0,34.0],\n",
       "'GENDER':[\"F\",\"F\",\"F\",\"F\",\"F\",\"F\",\"F\",\"F\",\"F\",\"M\",\"M\",\"M\",\"M\",\"M\",\"M\",\"M\",\"M\",\"M\",\"Unknown\",\"Unknown\",\"Unknown\",\"Unknown\",\"Unknown\",\"Unknown\",\"Unknown\",\"Unknown\",\"Unknown\"]\n",
       "},\n",
       "'position':\"stack\",\n",
       "'geom':\"bar\"\n",
       "}]\n",
       "};\n",
       "           var plotContainer = document.getElementById(\"ymhA19\");\n",
       "           window.letsPlotCall(function() {{\n",
       "               LetsPlot.buildPlotFromProcessedSpecs(plotSpec, -1, -1, plotContainer);\n",
       "           }});\n",
       "       })();    \n",
       "   </script>"
      ]
     },
     "execution_count": 28,
     "metadata": {
      "new_classpath": []
     },
     "output_type": "execute_result"
    }
   ],
   "source": [
    "p + layer + ggtitle(\"COVID-19 cases evaluated by Gender and Age Group\")"
   ]
  }
 ],
 "metadata": {
  "kernelspec": {
   "display_name": "Kotlin",
   "language": "kotlin",
   "name": "kotlin"
  },
  "language_info": {
   "codemirror_mode": "text/x-kotlin",
   "file_extension": ".kt",
   "mimetype": "text/x-kotlin",
   "name": "kotlin",
   "pygments_lexer": "kotlin",
   "version": "1.4.30-dev-2223"
  }
 },
 "nbformat": 4,
 "nbformat_minor": 4
}
